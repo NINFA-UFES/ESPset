{
 "cells": [
  {
   "cell_type": "markdown",
   "metadata": {},
   "source": [
    "# Load Dataset"
   ]
  },
  {
   "cell_type": "markdown",
   "metadata": {},
   "source": [
    "## loading spectrum"
   ]
  },
  {
   "cell_type": "code",
   "execution_count": 1,
   "metadata": {},
   "outputs": [
    {
     "data": {
      "text/plain": [
       "(6032, 12103)"
      ]
     },
     "execution_count": 1,
     "metadata": {},
     "output_type": "execute_result"
    }
   ],
   "source": [
    "import numpy as np\n",
    "\n",
    "signals = np.loadtxt('data/spectrum.csv', delimiter=';')\n",
    "signals.shape"
   ]
  },
  {
   "cell_type": "markdown",
   "metadata": {},
   "source": [
    "## loading labels and features"
   ]
  },
  {
   "cell_type": "code",
   "execution_count": 2,
   "metadata": {},
   "outputs": [
    {
     "data": {
      "text/html": [
       "<div>\n",
       "<style scoped>\n",
       "    .dataframe tbody tr th:only-of-type {\n",
       "        vertical-align: middle;\n",
       "    }\n",
       "\n",
       "    .dataframe tbody tr th {\n",
       "        vertical-align: top;\n",
       "    }\n",
       "\n",
       "    .dataframe thead th {\n",
       "        text-align: right;\n",
       "    }\n",
       "</style>\n",
       "<table border=\"1\" class=\"dataframe\">\n",
       "  <thead>\n",
       "    <tr style=\"text-align: right;\">\n",
       "      <th></th>\n",
       "      <th>esp_id</th>\n",
       "      <th>label</th>\n",
       "      <th>median(8,13)</th>\n",
       "      <th>rms(98,102)</th>\n",
       "      <th>median(98,102)</th>\n",
       "      <th>peak1x</th>\n",
       "      <th>peak2x</th>\n",
       "      <th>a</th>\n",
       "      <th>b</th>\n",
       "    </tr>\n",
       "    <tr>\n",
       "      <th>id</th>\n",
       "      <th></th>\n",
       "      <th></th>\n",
       "      <th></th>\n",
       "      <th></th>\n",
       "      <th></th>\n",
       "      <th></th>\n",
       "      <th></th>\n",
       "      <th></th>\n",
       "      <th></th>\n",
       "    </tr>\n",
       "  </thead>\n",
       "  <tbody>\n",
       "    <tr>\n",
       "      <th>0</th>\n",
       "      <td>7</td>\n",
       "      <td>Normal</td>\n",
       "      <td>0.002170</td>\n",
       "      <td>0.073935</td>\n",
       "      <td>0.000745</td>\n",
       "      <td>0.04894</td>\n",
       "      <td>0.01040</td>\n",
       "      <td>-0.000253</td>\n",
       "      <td>-6.485689</td>\n",
       "    </tr>\n",
       "    <tr>\n",
       "      <th>1</th>\n",
       "      <td>0</td>\n",
       "      <td>Normal</td>\n",
       "      <td>0.000290</td>\n",
       "      <td>0.266436</td>\n",
       "      <td>0.002295</td>\n",
       "      <td>0.15950</td>\n",
       "      <td>0.02152</td>\n",
       "      <td>-0.000546</td>\n",
       "      <td>-7.630209</td>\n",
       "    </tr>\n",
       "    <tr>\n",
       "      <th>2</th>\n",
       "      <td>4</td>\n",
       "      <td>Normal</td>\n",
       "      <td>0.042025</td>\n",
       "      <td>0.171981</td>\n",
       "      <td>0.004265</td>\n",
       "      <td>0.11314</td>\n",
       "      <td>0.02472</td>\n",
       "      <td>-0.003483</td>\n",
       "      <td>-2.293972</td>\n",
       "    </tr>\n",
       "    <tr>\n",
       "      <th>3</th>\n",
       "      <td>5</td>\n",
       "      <td>Normal</td>\n",
       "      <td>0.000915</td>\n",
       "      <td>0.060911</td>\n",
       "      <td>0.000310</td>\n",
       "      <td>0.03801</td>\n",
       "      <td>0.00534</td>\n",
       "      <td>-0.000960</td>\n",
       "      <td>-6.725640</td>\n",
       "    </tr>\n",
       "    <tr>\n",
       "      <th>4</th>\n",
       "      <td>7</td>\n",
       "      <td>Normal</td>\n",
       "      <td>0.001235</td>\n",
       "      <td>0.105685</td>\n",
       "      <td>0.001320</td>\n",
       "      <td>0.06891</td>\n",
       "      <td>0.00479</td>\n",
       "      <td>-0.000497</td>\n",
       "      <td>-6.407991</td>\n",
       "    </tr>\n",
       "  </tbody>\n",
       "</table>\n",
       "</div>"
      ],
      "text/plain": [
       "    esp_id   label  median(8,13)  rms(98,102)  median(98,102)   peak1x  \\\n",
       "id                                                                       \n",
       "0        7  Normal      0.002170     0.073935        0.000745  0.04894   \n",
       "1        0  Normal      0.000290     0.266436        0.002295  0.15950   \n",
       "2        4  Normal      0.042025     0.171981        0.004265  0.11314   \n",
       "3        5  Normal      0.000915     0.060911        0.000310  0.03801   \n",
       "4        7  Normal      0.001235     0.105685        0.001320  0.06891   \n",
       "\n",
       "     peak2x         a         b  \n",
       "id                               \n",
       "0   0.01040 -0.000253 -6.485689  \n",
       "1   0.02152 -0.000546 -7.630209  \n",
       "2   0.02472 -0.003483 -2.293972  \n",
       "3   0.00534 -0.000960 -6.725640  \n",
       "4   0.00479 -0.000497 -6.407991  "
      ]
     },
     "execution_count": 2,
     "metadata": {},
     "output_type": "execute_result"
    },
    {
     "data": {
      "image/png": "[encoded data removed]",
      "text/plain": [
       "<Figure size 640x480 with 1 Axes>"
      ]
     },
     "metadata": {},
     "output_type": "display_data"
    }
   ],
   "source": [
    "import pandas as pd\n",
    "\n",
    "features = pd.read_csv('data/features.csv',sep=';', index_col='id')\n",
    "labels = features['label']\n",
    "esp_id = features['esp_id']\n",
    "labels.hist();\n",
    "features.head()"
   ]
  },
  {
   "cell_type": "markdown",
   "metadata": {},
   "source": [
    "# Cross-validation on models applied to ICTAI2016 features"
   ]
  },
  {
   "cell_type": "code",
   "execution_count": 3,
   "metadata": {},
   "outputs": [],
   "source": [
    "from sklearn.ensemble import RandomForestClassifier\n",
    "from sklearn.model_selection import cross_validate, StratifiedKFold\n",
    "from PredefinedKFold import PredefinedKFold\n",
    "\n",
    "ICTAI2016_features = ['a', 'b', 'real_rotation_hz', 'peak1x', 'peak2x', 'rms(freq-1,freq+1)',\n",
    "                      'median(freq-1,freq+1)', 'median(3,5)']\n",
    "\n",
    "X = features[ICTAI2016_features]\n",
    "\n",
    "rf = RandomForestClassifier(n_estimators=100, max_features=5)"
   ]
  },
  {
   "cell_type": "markdown",
   "metadata": {},
   "source": [
    "## cross-validation using ESP group"
   ]
  },
  {
   "cell_type": "code",
   "execution_count": 4,
   "metadata": {},
   "outputs": [
    {
     "data": {
      "text/plain": [
       "array([0.69874913, 0.44767917, 0.65999974, 0.78918054])"
      ]
     },
     "execution_count": 4,
     "metadata": {},
     "output_type": "execute_result"
    }
   ],
   "source": [
    "sampler = PredefinedKFold(n_rounds=1) # run 1 round only.\n",
    "scores = cross_validate(rf, X, labels, groups=esp_id, scoring='f1_macro', cv=sampler)\n",
    "scores['test_score']"
   ]
  },
  {
   "cell_type": "markdown",
   "metadata": {},
   "source": [
    "## cross-validation using StratifiedKFold"
   ]
  },
  {
   "cell_type": "code",
   "execution_count": 5,
   "metadata": {},
   "outputs": [
    {
     "data": {
      "text/plain": [
       "array([0.8839406 , 0.86804548, 0.87580565, 0.90267981])"
      ]
     },
     "execution_count": 5,
     "metadata": {},
     "output_type": "execute_result"
    }
   ],
   "source": [
    "sampler = StratifiedKFold(n_splits=4, shuffle=True) # run 1 round only.\n",
    "scores = cross_validate(rf, X, labels, groups=esp_id, scoring='f1_macro', cv=sampler)\n",
    "scores['test_score']"
   ]
  },
  {
   "cell_type": "code",
   "execution_count": null,
   "metadata": {},
   "outputs": [],
   "source": []
  }
 ],
 "metadata": {
  "kernelspec": {
   "display_name": ".venv",
   "language": "python",
   "name": "python3"
  },
  "language_info": {
   "codemirror_mode": {
    "name": "ipython",
    "version": 3
   },
   "file_extension": ".py",
   "mimetype": "text/x-python",
   "name": "python",
   "nbconvert_exporter": "python",
   "pygments_lexer": "ipython3",
   "version": "3.10.12"
  }
 },
 "nbformat": 4,
 "nbformat_minor": 4
}
